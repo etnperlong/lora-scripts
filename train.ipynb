{
 "cells": [
  {
   "cell_type": "code",
   "execution_count": null,
   "metadata": {
    "pycharm": {
     "name": "#%%\n"
    }
   },
   "outputs": [],
   "source": [
    "# Train data path | 设置训练用模型、图片\n",
    "pretrained_model=\"./sd-models/model.ckpt\" # base model path | 底模路径\n",
    "train_data_dir=\"./train/aki\"              # train dataset path | 训练数据集路径\n",
    "reg_data_dir=\"\"                           # directory for regularization images | 正则化数据集路径，默认不使用正则化图像。\n",
    "\n",
    "# Train related params | 训练相关参数\n",
    "resolution=\"512,512\"      # image resolution w,h. 图片分辨率，宽,高。支持非正方形，但必须是 64 倍数。\n",
    "batch_size=1              # batch size\n",
    "max_train_epoches=10      # max train epoches | 最大训练 epoch\n",
    "save_every_n_epochs=2     # save every n epochs | 每 N 个 epoch 保存一次\n",
    "network_dim=32            # network dim | 常用 4~128，不是越大越好\n",
    "network_alpha=32          # network alpha | 常用与 network_dim 相同的值或者采用较小的值，如 network_dim的一半 防止下溢。默认值为 1，使用较小的 alpha 需要提升学习率。\n",
    "clip_skip=2               # clip skip | 玄学 一般用 2\n",
    "train_unet_only=0         # train U-Net only | 仅训练 U-Net，开启这个会牺牲效果大幅减少显存使用。6G显存可以开启\n",
    "train_text_encoder_only=0 # train Text Encoder only | 仅训练 文本编码器\n",
    "\n",
    "# Learning rate | 学习率\n",
    "lr=\"1e-4\"\n",
    "unet_lr=\"1e-4\"\n",
    "text_encoder_lr=\"1e-5\"\n",
    "lr_scheduler=\"cosine_with_restarts\" # \"linear\", \"cosine\", \"cosine_with_restarts\", \"polynomial\", \"constant\", \"constant_with_warmup\"\n",
    "lr_warmup_steps=0                   # warmup steps | 仅在 lr_scheduler 为 constant_with_warmup 时需要填写这个值\n",
    "lr_restart_cycles=1                 # cosine_with_restarts restart cycles | 余弦退火重启次数，仅在 lr_scheduler 为 cosine_with_restarts 时起效。\n",
    "\n",
    "# Output settings | 输出设置\n",
    "output_name=\"aki\"           # output model name | 模型保存名称\n",
    "save_model_as=\"safetensors\" # model save ext | 模型保存格式 ckpt, pt, safetensors\n",
    "\n",
    "# 其他设置\n",
    "network_weights=\"\"               # pretrained weights for LoRA network | 若需要从已有的 LoRA 模型上继续训练，请填写 LoRA 模型路径。\n",
    "min_bucket_reso=256              # arb min resolution | arb 最小分辨率\n",
    "max_bucket_reso=1024             # arb max resolution | arb 最大分辨率\n",
    "persistent_data_loader_workers=0 # persistent dataloader workers | 容易爆内存，保留加载训练集的worker，减少每个 epoch 之间的停顿\n",
    "noise_offset=0 # noise offset | 在训练中添加噪声偏移来改良生成非常暗或者非常亮的图像，推荐参数为0.1\n",
    "\n",
    "# 优化器设置\n",
    "use_8bit_adam=0 # use 8bit adam optimizer | 使用 8bit adam 优化器节省显存，默认启用。部分 10 系老显卡无法使用，修改为 0 禁用。\n",
    "use_lion=1      # use lion optimizer | 使用 Lion 优化器\n",
    "\n",
    "# LoCon 训练设置\n",
    "enable_locon_train=0 # enable LoCon train | 启用 LoCon 训练 启用后 network_dim 和 network_alpha 应当选择较小的值，比如 2~16\n",
    "conv_dim=4           # conv dim | 类似于 network_dim，推荐为 4\n",
    "conv_alpha=4         # conv alpha | 类似于 network_alpha，可以采用与 conv_dim 一致或者更小的值"
   ]
  },
  {
   "cell_type": "code",
   "execution_count": null,
   "metadata": {
    "pycharm": {
     "name": "#%%\n"
    }
   },
   "outputs": [],
   "source": [
    "!accelerate launch --num_cpu_threads_per_process=8 \"./sd-scripts/train_network.py\" \\\n",
    "  --enable_bucket \\\n",
    "  --pretrained_model_name_or_path=$pretrained_model \\\n",
    "  --train_data_dir=$train_data_dir \\\n",
    "  {\"--reg_data_dir=\" + reg_data_dir if reg_data_dir else \"\"} \\\n",
    "  --output_dir=\"./output\" \\\n",
    "  --logging_dir=\"./logs\" \\\n",
    "  --resolution=$resolution \\\n",
    "  --network_module={\"locon.locon_kohya\" if enable_locon_train == 1 else \"networks.lora\"} \\\n",
    "  {\"--network_args conv_dim=\" + conv_dim \"conv_alpha=\" + conv_alpha if enable_locon_train == 1 else \"\"} \\\n",
    "  {\"--network_weights=\" + network_weights if network_weights else \"\"} \\\n",
    "  {\"--network_train_unet_only\" if train_unet_only == 1 else \"\"} \\\n",
    "  {\"--network_train_text_encoder_only\" if train_text_encoder_only == 1 else \"\"} \\\n",
    "  --max_train_epochs=$max_train_epoches \\\n",
    "  --learning_rate=$lr \\\n",
    "  --unet_lr=$unet_lr \\\n",
    "  --text_encoder_lr=$text_encoder_lr \\\n",
    "  --lr_scheduler=$lr_scheduler \\\n",
    "  --lr_warmup_steps=$lr_warmup_steps \\\n",
    "  --lr_scheduler_num_cycles=$lr_restart_cycles \\\n",
    "  --network_dim=$network_dim \\\n",
    "  --network_alpha=$network_alpha \\\n",
    "  --output_name=$output_name \\\n",
    "  --train_batch_size=$batch_size \\\n",
    "  --save_every_n_epochs=$save_every_n_epochs \\\n",
    "  --mixed_precision=\"fp16\" \\\n",
    "  --save_precision=\"fp16\" \\\n",
    "  --seed=\"1337\" \\\n",
    "  {\"--use_8bit_adam\" if use_8bit_adam == 1 else \"\"} \\\n",
    "  {\"--use_lion_optimizer\" if use_lion == 1 else \"\"} \\\n",
    "  {\"--persistent_data_loader_workers\" if persistent_data_loader_workers == 1 else \"\"} \\\n",
    "  --cache_latents \\\n",
    "  --clip_skip=$clip_skip \\\n",
    "  --prior_loss_weight=1 \\\n",
    "  --max_token_length=225 \\\n",
    "  --caption_extension=\".txt\" \\\n",
    "  --save_model_as=$save_model_as \\\n",
    "  --min_bucket_reso=$min_bucket_reso \\\n",
    "  --max_bucket_reso=$max_bucket_reso \\\n",
    "  --xformers --shuffle_caption\n"
   ]
  }
 ],
 "metadata": {
  "kernelspec": {
   "display_name": "Python 3",
   "language": "python",
   "name": "python3"
  },
  "language_info": {
   "name": "python",
   "version": "3.11.1 (tags/v3.11.1:a7a450f, Dec  6 2022, 19:58:39) [MSC v.1934 64 bit (AMD64)]"
  },
  "orig_nbformat": 4,
  "vscode": {
   "interpreter": {
    "hash": "ea901fe922b6632ca20de969079c6864d8fa055cc6b234a09e204b88c60c9512"
   }
  }
 },
 "nbformat": 4,
 "nbformat_minor": 2
}
